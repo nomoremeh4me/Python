{
  "nbformat": 4,
  "nbformat_minor": 0,
  "metadata": {
    "colab": {
      "provenance": []
    },
    "kernelspec": {
      "name": "python3",
      "display_name": "Python 3"
    },
    "language_info": {
      "name": "python"
    }
  },
  "cells": [
    {
      "cell_type": "markdown",
      "source": [
        "**If Statements**"
      ],
      "metadata": {
        "id": "a4QLx97R-HCI"
      }
    },
    {
      "cell_type": "code",
      "source": [
        "# These are the conditional statements\n",
        "x = int(input(\"Please enter an integer: \"))\n",
        "if x<0:\n",
        "  print(\"the input number is negative\")\n",
        "elif x==0:\n",
        "  print(\"The input number is zero\")\n",
        "elif x>0:\n",
        "  print(\"The input number is positive\")\n"
      ],
      "metadata": {
        "colab": {
          "base_uri": "https://localhost:8080/"
        },
        "id": "UM7a8d2v-LJS",
        "outputId": "730fe362-f75d-46df-998b-fcf172151915"
      },
      "execution_count": null,
      "outputs": [
        {
          "output_type": "stream",
          "name": "stdout",
          "text": [
            "Please enter an integer: -5\n",
            "the input number is negative\n"
          ]
        }
      ]
    },
    {
      "cell_type": "markdown",
      "source": [
        "The sequence of elif can be used inplace of swithc case"
      ],
      "metadata": {
        "id": "2vV-NkC0_AMl"
      }
    },
    {
      "cell_type": "markdown",
      "source": [
        "**For Statements**"
      ],
      "metadata": {
        "id": "VLxFwdQL_LQi"
      }
    },
    {
      "cell_type": "code",
      "source": [
        "words = [\"cat\",\"window\",\"defenestrate\"]\n",
        "for w in words:\n",
        "  print(w,len(w))"
      ],
      "metadata": {
        "colab": {
          "base_uri": "https://localhost:8080/"
        },
        "id": "ZL4lBAvU-wKu",
        "outputId": "10a937fd-1b3c-49c4-face-4dfde732d5db"
      },
      "execution_count": null,
      "outputs": [
        {
          "output_type": "stream",
          "name": "stdout",
          "text": [
            "cat 3\n",
            "window 6\n",
            "defenestrate 12\n"
          ]
        }
      ]
    },
    {
      "cell_type": "code",
      "source": [
        "users = {'Hans': 'active', 'Éléonore': 'inactive', '景太郎': 'active'}\n",
        "active_users = {}\n",
        "for user,status in users.items():\n",
        "  if status == 'active':\n",
        "    active_users[user] = status\n",
        "print(active_users)"
      ],
      "metadata": {
        "colab": {
          "base_uri": "https://localhost:8080/"
        },
        "id": "8frGgB_c_X9b",
        "outputId": "c50e0da2-c8e4-4384-c2b8-b7c944e24ff4"
      },
      "execution_count": null,
      "outputs": [
        {
          "output_type": "stream",
          "name": "stdout",
          "text": [
            "{'Hans': 'active', '景太郎': 'active'}\n"
          ]
        }
      ]
    },
    {
      "cell_type": "code",
      "source": [
        "#If you need to iterate over a sequence of numbers use range functions\n",
        "for i in range(5):\n",
        "  print(i)"
      ],
      "metadata": {
        "colab": {
          "base_uri": "https://localhost:8080/"
        },
        "id": "2CvnfRZl_vKG",
        "outputId": "deb3fb2a-2a66-4c28-807b-85dd310fe56b"
      },
      "execution_count": null,
      "outputs": [
        {
          "output_type": "stream",
          "name": "stdout",
          "text": [
            "0\n",
            "1\n",
            "2\n",
            "3\n",
            "4\n"
          ]
        }
      ]
    },
    {
      "cell_type": "code",
      "source": [
        "# To iterate over the indices of a sequence, you can use range() and len()\n",
        "a = ['Mary','had','a','little','lamb']\n",
        "for i in range(len(a)):\n",
        "  print(i,a[i])\n"
      ],
      "metadata": {
        "colab": {
          "base_uri": "https://localhost:8080/"
        },
        "id": "tizPTwnu_784",
        "outputId": "975c0c72-c6c9-4c2a-e677-937413983e20"
      },
      "execution_count": null,
      "outputs": [
        {
          "output_type": "stream",
          "name": "stdout",
          "text": [
            "0 Mary\n",
            "1 had\n",
            "2 a\n",
            "3 little\n",
            "4 lamb\n"
          ]
        }
      ]
    },
    {
      "cell_type": "markdown",
      "source": [
        "**Use of break and continue statements**"
      ],
      "metadata": {
        "id": "LZAhjSZEA2ed"
      }
    },
    {
      "cell_type": "code",
      "source": [
        "# the break statements breaks out of the innermost enclosing for or while loop\n",
        "for n in range(2,10):\n",
        "  for x in range(2,n):\n",
        "    if n%x==0:\n",
        "      print(f\"{n} equals {x}*{n//x}\")\n",
        "      break"
      ],
      "metadata": {
        "colab": {
          "base_uri": "https://localhost:8080/"
        },
        "id": "Iu8GXB57AqxE",
        "outputId": "3f47fee0-fcaf-43ae-c001-19773efdb44d"
      },
      "execution_count": null,
      "outputs": [
        {
          "output_type": "stream",
          "name": "stdout",
          "text": [
            "4 equals 2*2\n",
            "6 equals 2*3\n",
            "8 equals 2*4\n",
            "9 equals 3*3\n"
          ]
        }
      ]
    },
    {
      "cell_type": "code",
      "source": [
        "# The continue statement continues with the next iteration of the loop\n",
        "for n in range(2,10):\n",
        "  if n%2==0:\n",
        "    print(f\"found an even number {n}\")\n",
        "    continue\n",
        "  print(f\"found an odd number {n}\")"
      ],
      "metadata": {
        "colab": {
          "base_uri": "https://localhost:8080/"
        },
        "id": "33C2ZI3UBT0h",
        "outputId": "f783df9b-94de-4f26-80d9-52d2c334338d"
      },
      "execution_count": null,
      "outputs": [
        {
          "output_type": "stream",
          "name": "stdout",
          "text": [
            "found an even number 2\n",
            "found an odd number 3\n",
            "found an even number 4\n",
            "found an odd number 5\n",
            "found an even number 6\n",
            "found an odd number 7\n",
            "found an even number 8\n",
            "found an odd number 9\n"
          ]
        }
      ]
    },
    {
      "cell_type": "markdown",
      "source": [
        "**Match Statements**"
      ],
      "metadata": {
        "id": "UQ2BUwAuN6Ma"
      }
    },
    {
      "cell_type": "code",
      "source": [
        "#The match statements is same used as a switch case\n",
        "def http_error(status):\n",
        "  match status:\n",
        "    case 400:\n",
        "      return \"Bad request\"\n",
        "    case 404:\n",
        "      return \"Not found\"\n",
        "    case 418:\n",
        "      return \"I'm a teapot\""
      ],
      "metadata": {
        "id": "OszONwe5OFaU"
      },
      "execution_count": null,
      "outputs": []
    },
    {
      "cell_type": "markdown",
      "source": [
        "**Defining Functions**"
      ],
      "metadata": {
        "id": "0CN3JqMtOYxG"
      }
    },
    {
      "cell_type": "code",
      "source": [
        "def fib(n):\n",
        "  result = []\n",
        "  a , b = 0,1\n",
        "  while a<n:\n",
        "      result.append(a)\n",
        "      a , b = b , a+b\n",
        "  return result"
      ],
      "metadata": {
        "id": "QIWqmlyeOFva"
      },
      "execution_count": 13,
      "outputs": []
    },
    {
      "cell_type": "code",
      "source": [
        "print(fib(100))"
      ],
      "metadata": {
        "colab": {
          "base_uri": "https://localhost:8080/"
        },
        "id": "ocjbpDiLgWpD",
        "outputId": "20df0277-f6bd-4f38-aef7-b9824632278f"
      },
      "execution_count": 14,
      "outputs": [
        {
          "output_type": "stream",
          "name": "stdout",
          "text": [
            "[0, 1, 1, 2, 3, 5, 8, 13, 21, 34, 55, 89]\n"
          ]
        }
      ]
    },
    {
      "cell_type": "markdown",
      "source": [
        "**Lambda Functions**"
      ],
      "metadata": {
        "id": "F2e_G8XqhHj9"
      }
    },
    {
      "cell_type": "code",
      "source": [
        "pairs = [(1,'one'),(2,'two'),(3,'three')]\n",
        "pairs.sort(key = lambda pair:pair[1])\n",
        "pairs"
      ],
      "metadata": {
        "colab": {
          "base_uri": "https://localhost:8080/"
        },
        "id": "nfYokaUdgZtC",
        "outputId": "5bf505ca-ce43-439a-8f2e-d3f28125cb38"
      },
      "execution_count": 17,
      "outputs": [
        {
          "output_type": "execute_result",
          "data": {
            "text/plain": [
              "[(1, 'one'), (3, 'three'), (2, 'two')]"
            ]
          },
          "metadata": {},
          "execution_count": 17
        }
      ]
    },
    {
      "cell_type": "code",
      "source": [
        "#Check whether the input year is lead year or not\n",
        "year = int(input(\"Enter the year: \"))\n",
        "if (year % 4 == 0 and year % 100 != 0) or (year % 400 == 0):\n",
        "  print(f\"{year} is a leap year\")\n",
        "else:\n",
        "  print(f\"{year} is not a leap year\")"
      ],
      "metadata": {
        "colab": {
          "base_uri": "https://localhost:8080/"
        },
        "id": "1eukFpE2hY05",
        "outputId": "009b1c86-cc03-4970-f5ae-b9150ac4f70f"
      },
      "execution_count": 20,
      "outputs": [
        {
          "output_type": "stream",
          "name": "stdout",
          "text": [
            "Enter the year: 2012\n",
            "2012 is a leap year\n"
          ]
        }
      ]
    },
    {
      "cell_type": "code",
      "source": [
        "#Print a multiplication table (1–10) for a number input by the user.\n",
        "num = int(input(\"Enter the number: \"))\n",
        "for i in range(1,11):\n",
        "  print(i*num,end = ' ')"
      ],
      "metadata": {
        "colab": {
          "base_uri": "https://localhost:8080/"
        },
        "id": "1QiDqamcihWd",
        "outputId": "d9754d76-4e2a-485d-aa54-4d20b7e851c0"
      },
      "execution_count": 22,
      "outputs": [
        {
          "output_type": "stream",
          "name": "stdout",
          "text": [
            "Enter the number: 11\n",
            "11 22 33 44 55 66 77 88 99 110 "
          ]
        }
      ]
    },
    {
      "cell_type": "code",
      "source": [
        "# Write a program that calculates the sum of all even numbers between 1 and 100.\n",
        "sum = 0\n",
        "for i in range(2,101):\n",
        "  if i % 2 == 0:\n",
        "    sum+=i;\n",
        "print(f\"Sum of even number from 1 to 100 is:{sum}\")"
      ],
      "metadata": {
        "colab": {
          "base_uri": "https://localhost:8080/"
        },
        "id": "aDLHGLDFi4C8",
        "outputId": "4a73d737-dca3-4e0a-deba-932ded3180da"
      },
      "execution_count": 25,
      "outputs": [
        {
          "output_type": "stream",
          "name": "stdout",
          "text": [
            "Sum of even number from 1 to 100 is:2550\n"
          ]
        }
      ]
    },
    {
      "cell_type": "code",
      "source": [
        "# Loop from 1 to 100. If the number is divisible by 3, skip printing it\n",
        "#  using continue. Stop the loop if the number is 77 using break.\n",
        "for i in range(1,101):\n",
        "  if i % 3 == 0:\n",
        "    continue\n",
        "  elif i == 77:\n",
        "    break\n",
        "  else:\n",
        "    print(i,end = ' ')"
      ],
      "metadata": {
        "colab": {
          "base_uri": "https://localhost:8080/"
        },
        "id": "RR2zf2MHjw9t",
        "outputId": "e0c055f8-ce11-4276-a8c5-8931f2614fa5"
      },
      "execution_count": 27,
      "outputs": [
        {
          "output_type": "stream",
          "name": "stdout",
          "text": [
            "1 2 4 5 7 8 10 11 13 14 16 17 19 20 22 23 25 26 28 29 31 32 34 35 37 38 40 41 43 44 46 47 49 50 52 53 55 56 58 59 61 62 64 65 67 68 70 71 73 74 76 "
          ]
        }
      ]
    }
  ]
}